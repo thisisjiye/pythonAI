{
  "nbformat": 4,
  "nbformat_minor": 0,
  "metadata": {
    "colab": {
      "provenance": []
    },
    "kernelspec": {
      "name": "python3",
      "display_name": "Python 3"
    },
    "language_info": {
      "name": "python"
    }
  },
  "cells": [
    {
      "cell_type": "code",
      "execution_count": null,
      "metadata": {
        "id": "ULXcxP0tPyRr"
      },
      "outputs": [],
      "source": [
        "import matplotlib.pyplot as plt\n",
        "import pandas as pd\n",
        "import numpy as np"
      ]
    },
    {
      "cell_type": "markdown",
      "source": [
        "**Import Libraries and Dataset**"
      ],
      "metadata": {
        "id": "zN2gP1tyXbdn"
      }
    },
    {
      "cell_type": "code",
      "source": [
        "df = pd.read_csv('/Assignment 1.csv', encoding='cp949')"
      ],
      "metadata": {
        "id": "nRslChQTTF3k"
      },
      "execution_count": null,
      "outputs": []
    },
    {
      "cell_type": "code",
      "source": [
        "df.head()"
      ],
      "metadata": {
        "colab": {
          "base_uri": "https://localhost:8080/",
          "height": 206
        },
        "id": "08peqFJMVWb8",
        "outputId": "24811716-a390-4b88-b0a7-5e1c06e2466f"
      },
      "execution_count": null,
      "outputs": [
        {
          "output_type": "execute_result",
          "data": {
            "text/plain": [
              "       id  meta_score rating release_year  \\\n",
              "0  549123          94  TV-14         1989   \n",
              "1  522228          94  PG-13         2000   \n",
              "2  550614          94      G         1970   \n",
              "3  549303          94  TV-PG         1943   \n",
              "4  539956          94     PG         2015   \n",
              "\n",
              "                                             summary  \\\n",
              "0  A young boy and his little sister struggle to ...   \n",
              "1  In 19th century China, a magical sword given b...   \n",
              "2  In a French forest in 1798, a child is found w...   \n",
              "3  A young woman discovers her visiting uncle may...   \n",
              "4  Growing up can be a bumpy road, and it_ no exc...   \n",
              "\n",
              "                            title user_score  \n",
              "0   Grave of the Fireflies (1988)        8.9  \n",
              "1  Crouching Tiger, Hidden Dragon        8.2  \n",
              "2                  The Wild Child        6.5  \n",
              "3               Shadow of a Doubt        8.2  \n",
              "4                      Inside Out        8.7  "
            ],
            "text/html": [
              "\n",
              "  <div id=\"df-78c182c0-869a-4144-9bf2-8e3ef8c4628e\">\n",
              "    <div class=\"colab-df-container\">\n",
              "      <div>\n",
              "<style scoped>\n",
              "    .dataframe tbody tr th:only-of-type {\n",
              "        vertical-align: middle;\n",
              "    }\n",
              "\n",
              "    .dataframe tbody tr th {\n",
              "        vertical-align: top;\n",
              "    }\n",
              "\n",
              "    .dataframe thead th {\n",
              "        text-align: right;\n",
              "    }\n",
              "</style>\n",
              "<table border=\"1\" class=\"dataframe\">\n",
              "  <thead>\n",
              "    <tr style=\"text-align: right;\">\n",
              "      <th></th>\n",
              "      <th>id</th>\n",
              "      <th>meta_score</th>\n",
              "      <th>rating</th>\n",
              "      <th>release_year</th>\n",
              "      <th>summary</th>\n",
              "      <th>title</th>\n",
              "      <th>user_score</th>\n",
              "    </tr>\n",
              "  </thead>\n",
              "  <tbody>\n",
              "    <tr>\n",
              "      <th>0</th>\n",
              "      <td>549123</td>\n",
              "      <td>94</td>\n",
              "      <td>TV-14</td>\n",
              "      <td>1989</td>\n",
              "      <td>A young boy and his little sister struggle to ...</td>\n",
              "      <td>Grave of the Fireflies (1988)</td>\n",
              "      <td>8.9</td>\n",
              "    </tr>\n",
              "    <tr>\n",
              "      <th>1</th>\n",
              "      <td>522228</td>\n",
              "      <td>94</td>\n",
              "      <td>PG-13</td>\n",
              "      <td>2000</td>\n",
              "      <td>In 19th century China, a magical sword given b...</td>\n",
              "      <td>Crouching Tiger, Hidden Dragon</td>\n",
              "      <td>8.2</td>\n",
              "    </tr>\n",
              "    <tr>\n",
              "      <th>2</th>\n",
              "      <td>550614</td>\n",
              "      <td>94</td>\n",
              "      <td>G</td>\n",
              "      <td>1970</td>\n",
              "      <td>In a French forest in 1798, a child is found w...</td>\n",
              "      <td>The Wild Child</td>\n",
              "      <td>6.5</td>\n",
              "    </tr>\n",
              "    <tr>\n",
              "      <th>3</th>\n",
              "      <td>549303</td>\n",
              "      <td>94</td>\n",
              "      <td>TV-PG</td>\n",
              "      <td>1943</td>\n",
              "      <td>A young woman discovers her visiting uncle may...</td>\n",
              "      <td>Shadow of a Doubt</td>\n",
              "      <td>8.2</td>\n",
              "    </tr>\n",
              "    <tr>\n",
              "      <th>4</th>\n",
              "      <td>539956</td>\n",
              "      <td>94</td>\n",
              "      <td>PG</td>\n",
              "      <td>2015</td>\n",
              "      <td>Growing up can be a bumpy road, and it_ no exc...</td>\n",
              "      <td>Inside Out</td>\n",
              "      <td>8.7</td>\n",
              "    </tr>\n",
              "  </tbody>\n",
              "</table>\n",
              "</div>\n",
              "      <button class=\"colab-df-convert\" onclick=\"convertToInteractive('df-78c182c0-869a-4144-9bf2-8e3ef8c4628e')\"\n",
              "              title=\"Convert this dataframe to an interactive table.\"\n",
              "              style=\"display:none;\">\n",
              "        \n",
              "  <svg xmlns=\"http://www.w3.org/2000/svg\" height=\"24px\"viewBox=\"0 0 24 24\"\n",
              "       width=\"24px\">\n",
              "    <path d=\"M0 0h24v24H0V0z\" fill=\"none\"/>\n",
              "    <path d=\"M18.56 5.44l.94 2.06.94-2.06 2.06-.94-2.06-.94-.94-2.06-.94 2.06-2.06.94zm-11 1L8.5 8.5l.94-2.06 2.06-.94-2.06-.94L8.5 2.5l-.94 2.06-2.06.94zm10 10l.94 2.06.94-2.06 2.06-.94-2.06-.94-.94-2.06-.94 2.06-2.06.94z\"/><path d=\"M17.41 7.96l-1.37-1.37c-.4-.4-.92-.59-1.43-.59-.52 0-1.04.2-1.43.59L10.3 9.45l-7.72 7.72c-.78.78-.78 2.05 0 2.83L4 21.41c.39.39.9.59 1.41.59.51 0 1.02-.2 1.41-.59l7.78-7.78 2.81-2.81c.8-.78.8-2.07 0-2.86zM5.41 20L4 18.59l7.72-7.72 1.47 1.35L5.41 20z\"/>\n",
              "  </svg>\n",
              "      </button>\n",
              "      \n",
              "  <style>\n",
              "    .colab-df-container {\n",
              "      display:flex;\n",
              "      flex-wrap:wrap;\n",
              "      gap: 12px;\n",
              "    }\n",
              "\n",
              "    .colab-df-convert {\n",
              "      background-color: #E8F0FE;\n",
              "      border: none;\n",
              "      border-radius: 50%;\n",
              "      cursor: pointer;\n",
              "      display: none;\n",
              "      fill: #1967D2;\n",
              "      height: 32px;\n",
              "      padding: 0 0 0 0;\n",
              "      width: 32px;\n",
              "    }\n",
              "\n",
              "    .colab-df-convert:hover {\n",
              "      background-color: #E2EBFA;\n",
              "      box-shadow: 0px 1px 2px rgba(60, 64, 67, 0.3), 0px 1px 3px 1px rgba(60, 64, 67, 0.15);\n",
              "      fill: #174EA6;\n",
              "    }\n",
              "\n",
              "    [theme=dark] .colab-df-convert {\n",
              "      background-color: #3B4455;\n",
              "      fill: #D2E3FC;\n",
              "    }\n",
              "\n",
              "    [theme=dark] .colab-df-convert:hover {\n",
              "      background-color: #434B5C;\n",
              "      box-shadow: 0px 1px 3px 1px rgba(0, 0, 0, 0.15);\n",
              "      filter: drop-shadow(0px 1px 2px rgba(0, 0, 0, 0.3));\n",
              "      fill: #FFFFFF;\n",
              "    }\n",
              "  </style>\n",
              "\n",
              "      <script>\n",
              "        const buttonEl =\n",
              "          document.querySelector('#df-78c182c0-869a-4144-9bf2-8e3ef8c4628e button.colab-df-convert');\n",
              "        buttonEl.style.display =\n",
              "          google.colab.kernel.accessAllowed ? 'block' : 'none';\n",
              "\n",
              "        async function convertToInteractive(key) {\n",
              "          const element = document.querySelector('#df-78c182c0-869a-4144-9bf2-8e3ef8c4628e');\n",
              "          const dataTable =\n",
              "            await google.colab.kernel.invokeFunction('convertToInteractive',\n",
              "                                                     [key], {});\n",
              "          if (!dataTable) return;\n",
              "\n",
              "          const docLinkHtml = 'Like what you see? Visit the ' +\n",
              "            '<a target=\"_blank\" href=https://colab.research.google.com/notebooks/data_table.ipynb>data table notebook</a>'\n",
              "            + ' to learn more about interactive tables.';\n",
              "          element.innerHTML = '';\n",
              "          dataTable['output_type'] = 'display_data';\n",
              "          await google.colab.output.renderOutput(dataTable, element);\n",
              "          const docLink = document.createElement('div');\n",
              "          docLink.innerHTML = docLinkHtml;\n",
              "          element.appendChild(docLink);\n",
              "        }\n",
              "      </script>\n",
              "    </div>\n",
              "  </div>\n",
              "  "
            ]
          },
          "metadata": {},
          "execution_count": 71
        }
      ]
    },
    {
      "cell_type": "code",
      "source": [
        "df.tail(3)"
      ],
      "metadata": {
        "colab": {
          "base_uri": "https://localhost:8080/",
          "height": 143
        },
        "id": "d0xTomX1TTxD",
        "outputId": "ed569d40-0e6f-43c2-ee0c-1384a93b33a2"
      },
      "execution_count": null,
      "outputs": [
        {
          "output_type": "execute_result",
          "data": {
            "text/plain": [
              "           id  meta_score     rating release_year  \\\n",
              "15322  522425           1      PG-13         1996   \n",
              "15323  517421           1  Not Rated         2005   \n",
              "15324  549063           1      PG-13         2018   \n",
              "\n",
              "                                                 summary              title  \\\n",
              "15322  Five brave scientists are forced to face life ...           Bio-Dome   \n",
              "15323  Quite definitely one of the most brutal displa...              Chaos   \n",
              "15324  Not since 1860 have the Democrats so fanatical...  Death of a Nation   \n",
              "\n",
              "      user_score  \n",
              "15322        7.5  \n",
              "15323        2.5  \n",
              "15324        4.3  "
            ],
            "text/html": [
              "\n",
              "  <div id=\"df-4fea2c61-3751-4f1c-bf24-befa4f038c6c\">\n",
              "    <div class=\"colab-df-container\">\n",
              "      <div>\n",
              "<style scoped>\n",
              "    .dataframe tbody tr th:only-of-type {\n",
              "        vertical-align: middle;\n",
              "    }\n",
              "\n",
              "    .dataframe tbody tr th {\n",
              "        vertical-align: top;\n",
              "    }\n",
              "\n",
              "    .dataframe thead th {\n",
              "        text-align: right;\n",
              "    }\n",
              "</style>\n",
              "<table border=\"1\" class=\"dataframe\">\n",
              "  <thead>\n",
              "    <tr style=\"text-align: right;\">\n",
              "      <th></th>\n",
              "      <th>id</th>\n",
              "      <th>meta_score</th>\n",
              "      <th>rating</th>\n",
              "      <th>release_year</th>\n",
              "      <th>summary</th>\n",
              "      <th>title</th>\n",
              "      <th>user_score</th>\n",
              "    </tr>\n",
              "  </thead>\n",
              "  <tbody>\n",
              "    <tr>\n",
              "      <th>15322</th>\n",
              "      <td>522425</td>\n",
              "      <td>1</td>\n",
              "      <td>PG-13</td>\n",
              "      <td>1996</td>\n",
              "      <td>Five brave scientists are forced to face life ...</td>\n",
              "      <td>Bio-Dome</td>\n",
              "      <td>7.5</td>\n",
              "    </tr>\n",
              "    <tr>\n",
              "      <th>15323</th>\n",
              "      <td>517421</td>\n",
              "      <td>1</td>\n",
              "      <td>Not Rated</td>\n",
              "      <td>2005</td>\n",
              "      <td>Quite definitely one of the most brutal displa...</td>\n",
              "      <td>Chaos</td>\n",
              "      <td>2.5</td>\n",
              "    </tr>\n",
              "    <tr>\n",
              "      <th>15324</th>\n",
              "      <td>549063</td>\n",
              "      <td>1</td>\n",
              "      <td>PG-13</td>\n",
              "      <td>2018</td>\n",
              "      <td>Not since 1860 have the Democrats so fanatical...</td>\n",
              "      <td>Death of a Nation</td>\n",
              "      <td>4.3</td>\n",
              "    </tr>\n",
              "  </tbody>\n",
              "</table>\n",
              "</div>\n",
              "      <button class=\"colab-df-convert\" onclick=\"convertToInteractive('df-4fea2c61-3751-4f1c-bf24-befa4f038c6c')\"\n",
              "              title=\"Convert this dataframe to an interactive table.\"\n",
              "              style=\"display:none;\">\n",
              "        \n",
              "  <svg xmlns=\"http://www.w3.org/2000/svg\" height=\"24px\"viewBox=\"0 0 24 24\"\n",
              "       width=\"24px\">\n",
              "    <path d=\"M0 0h24v24H0V0z\" fill=\"none\"/>\n",
              "    <path d=\"M18.56 5.44l.94 2.06.94-2.06 2.06-.94-2.06-.94-.94-2.06-.94 2.06-2.06.94zm-11 1L8.5 8.5l.94-2.06 2.06-.94-2.06-.94L8.5 2.5l-.94 2.06-2.06.94zm10 10l.94 2.06.94-2.06 2.06-.94-2.06-.94-.94-2.06-.94 2.06-2.06.94z\"/><path d=\"M17.41 7.96l-1.37-1.37c-.4-.4-.92-.59-1.43-.59-.52 0-1.04.2-1.43.59L10.3 9.45l-7.72 7.72c-.78.78-.78 2.05 0 2.83L4 21.41c.39.39.9.59 1.41.59.51 0 1.02-.2 1.41-.59l7.78-7.78 2.81-2.81c.8-.78.8-2.07 0-2.86zM5.41 20L4 18.59l7.72-7.72 1.47 1.35L5.41 20z\"/>\n",
              "  </svg>\n",
              "      </button>\n",
              "      \n",
              "  <style>\n",
              "    .colab-df-container {\n",
              "      display:flex;\n",
              "      flex-wrap:wrap;\n",
              "      gap: 12px;\n",
              "    }\n",
              "\n",
              "    .colab-df-convert {\n",
              "      background-color: #E8F0FE;\n",
              "      border: none;\n",
              "      border-radius: 50%;\n",
              "      cursor: pointer;\n",
              "      display: none;\n",
              "      fill: #1967D2;\n",
              "      height: 32px;\n",
              "      padding: 0 0 0 0;\n",
              "      width: 32px;\n",
              "    }\n",
              "\n",
              "    .colab-df-convert:hover {\n",
              "      background-color: #E2EBFA;\n",
              "      box-shadow: 0px 1px 2px rgba(60, 64, 67, 0.3), 0px 1px 3px 1px rgba(60, 64, 67, 0.15);\n",
              "      fill: #174EA6;\n",
              "    }\n",
              "\n",
              "    [theme=dark] .colab-df-convert {\n",
              "      background-color: #3B4455;\n",
              "      fill: #D2E3FC;\n",
              "    }\n",
              "\n",
              "    [theme=dark] .colab-df-convert:hover {\n",
              "      background-color: #434B5C;\n",
              "      box-shadow: 0px 1px 3px 1px rgba(0, 0, 0, 0.15);\n",
              "      filter: drop-shadow(0px 1px 2px rgba(0, 0, 0, 0.3));\n",
              "      fill: #FFFFFF;\n",
              "    }\n",
              "  </style>\n",
              "\n",
              "      <script>\n",
              "        const buttonEl =\n",
              "          document.querySelector('#df-4fea2c61-3751-4f1c-bf24-befa4f038c6c button.colab-df-convert');\n",
              "        buttonEl.style.display =\n",
              "          google.colab.kernel.accessAllowed ? 'block' : 'none';\n",
              "\n",
              "        async function convertToInteractive(key) {\n",
              "          const element = document.querySelector('#df-4fea2c61-3751-4f1c-bf24-befa4f038c6c');\n",
              "          const dataTable =\n",
              "            await google.colab.kernel.invokeFunction('convertToInteractive',\n",
              "                                                     [key], {});\n",
              "          if (!dataTable) return;\n",
              "\n",
              "          const docLinkHtml = 'Like what you see? Visit the ' +\n",
              "            '<a target=\"_blank\" href=https://colab.research.google.com/notebooks/data_table.ipynb>data table notebook</a>'\n",
              "            + ' to learn more about interactive tables.';\n",
              "          element.innerHTML = '';\n",
              "          dataTable['output_type'] = 'display_data';\n",
              "          await google.colab.output.renderOutput(dataTable, element);\n",
              "          const docLink = document.createElement('div');\n",
              "          docLink.innerHTML = docLinkHtml;\n",
              "          element.appendChild(docLink);\n",
              "        }\n",
              "      </script>\n",
              "    </div>\n",
              "  </div>\n",
              "  "
            ]
          },
          "metadata": {},
          "execution_count": 72
        }
      ]
    },
    {
      "cell_type": "markdown",
      "source": [
        "**Data Preprocessing**"
      ],
      "metadata": {
        "id": "3lyvGkzGXqWs"
      }
    },
    {
      "cell_type": "code",
      "source": [
        "# ‘user_score’열에서 ‘tbd’을 포함한 행과 결측값을 포함한 행은 모두 제거하여라.\n",
        "\n",
        "# series or dataframe에서 누락된 값 or NAN(숫자가 아닌)을 NA로 채우는 pandas의 함수\n",
        "df['user_score'] = df['user_score'].fillna('NA')\n",
        "\n",
        "# user_score column을 string type으로 convert (숫자와 문자 등 혼합)\n",
        "df['user_score'] = df['user_score'].astype(str)\n",
        "\n",
        "# Remove rows with 'tbd' or '\\d+-\\d+'(정규식 패턴 '\\d+-\\d+'는 더 큰 문자열 내에서 텍스트의 특정 패턴을 일치시키는 데 사용할 수 있는 문자열)\n",
        "df = df[~df['user_score'].str.contains('tbd')]\n",
        "df = df[~df['user_score'].str.contains('\\d+-\\d+')]"
      ],
      "metadata": {
        "id": "tHSgcII-iEFo"
      },
      "execution_count": null,
      "outputs": []
    },
    {
      "cell_type": "code",
      "source": [
        "print(df)"
      ],
      "metadata": {
        "colab": {
          "base_uri": "https://localhost:8080/"
        },
        "id": "cz_QqdlSjEdj",
        "outputId": "6c472dbf-02d7-44ea-feb1-3355f7ddc419"
      },
      "execution_count": null,
      "outputs": [
        {
          "output_type": "stream",
          "name": "stdout",
          "text": [
            "           id  meta_score     rating release_year  \\\n",
            "0      549123       8.648      TV-14         1989   \n",
            "1      522228       8.648      PG-13         2000   \n",
            "2      550614       8.648          G         1970   \n",
            "3      549303       8.648      TV-PG         1943   \n",
            "4      539956       8.648         PG         2015   \n",
            "...       ...         ...        ...          ...   \n",
            "15320  550890       0.092         PG         1987   \n",
            "15321  544030       0.092  Not Rated         2015   \n",
            "15322  522425       0.092      PG-13         1996   \n",
            "15323  517421       0.092  Not Rated         2005   \n",
            "15324  549063       0.092      PG-13         2018   \n",
            "\n",
            "                                                 summary  \\\n",
            "0      A young boy and his little sister struggle to ...   \n",
            "1      In 19th century China, a magical sword given b...   \n",
            "2      In a French forest in 1798, a child is found w...   \n",
            "3      A young woman discovers her visiting uncle may...   \n",
            "4      Growing up can be a bumpy road, and it_ no exc...   \n",
            "...                                                  ...   \n",
            "15320  Dodger must confront the struggles of life as ...   \n",
            "15321  Three men_ules Rimet (G챕rard Depardieu), Joao ...   \n",
            "15322  Five brave scientists are forced to face life ...   \n",
            "15323  Quite definitely one of the most brutal displa...   \n",
            "15324  Not since 1860 have the Democrats so fanatical...   \n",
            "\n",
            "                                title user_score  average_score  \n",
            "0       Grave of the Fireflies (1988)        8.9          8.774  \n",
            "1      Crouching Tiger, Hidden Dragon        8.2          8.424  \n",
            "2                      The Wild Child        6.5          7.574  \n",
            "3                   Shadow of a Doubt        8.2          8.424  \n",
            "4                          Inside Out        8.7          8.674  \n",
            "...                               ...        ...            ...  \n",
            "15320     The Garbage Pail Kids Movie        0.7          0.396  \n",
            "15321                 United Passions        0.7          0.396  \n",
            "15322                        Bio-Dome        7.5          3.796  \n",
            "15323                           Chaos        2.5          1.296  \n",
            "15324               Death of a Nation        4.3          2.196  \n",
            "\n",
            "[12116 rows x 8 columns]\n"
          ]
        }
      ]
    },
    {
      "cell_type": "code",
      "source": [
        "# ‘meta_score’을 ‘user_score’의 기준에 따라 10점 기준으로 표준화 시킨 다음, 두 열의 값을 평균내어 ‘average_score’라는 새로운 열을 추가하고 ‘data_2’로 저장하여라 . (데이터 형식은 float로 통일 시켜준다.)\n",
        "\n",
        "# convert 'meta_score' column to float (data구성 및 시각화를 위해 숫자 데이터를 floating)\n",
        "df['meta_score'] = df['meta_score'].astype(float)\n",
        "\n",
        "# convert 'user_score' column to float\n",
        "df['user_score'] = pd.to_numeric(df['user_score'], errors='coerce')\n",
        "\n",
        "# standardize(두 열을 정규화) 'meta_score' to 10 points according to 'user_score' criteria\n",
        "df['meta_score'] = (df['meta_score'] / df['meta_score'].max()) * (df['user_score'].max())\n",
        "\n",
        "# calculate the average of 'user_score' and 'meta_score'\n",
        "df['average_score'] = (df['user_score'] + df['meta_score']) / 2\n",
        "\n",
        "# save the updated DataFrame to a new CSV file\n",
        "df.to_csv('data_2.csv', index=False)"
      ],
      "metadata": {
        "id": "zyXccZMzl1SE"
      },
      "execution_count": null,
      "outputs": []
    },
    {
      "cell_type": "markdown",
      "source": [
        "**Pivoting Features**"
      ],
      "metadata": {
        "id": "siRwp1O4x0-q"
      }
    },
    {
      "cell_type": "code",
      "source": [
        "# ‘release_year’(개봉년도) 별로 ‘average_score’이 가장 높은 영화의 제목을 내림차순(2022년, 2021년, 2020년..)으로 출력하여라.\n",
        "\n",
        "# group movies by 'release_year', then sort by 'average_score' in descending order and get the first row for each year\n",
        "best_movies = df.groupby('release_year').apply(lambda x: x.sort_values('average_score', ascending=False).iloc[0])\n",
        "\n",
        "# select only the columns we need\n",
        "best_movies = best_movies[['title', 'release_year', 'average_score']]\n",
        "\n",
        "# reset the index\n",
        "best_movies = best_movies.reset_index(drop=True)\n",
        "\n",
        "# sort by 'release_year' in descending order\n",
        "best_movies = best_movies.sort_values('release_year', ascending=False)\n",
        "\n",
        "# print the result\n",
        "print(best_movies)"
      ],
      "metadata": {
        "colab": {
          "base_uri": "https://localhost:8080/"
        },
        "id": "l_oiWwvjx6Ez",
        "outputId": "3faaa26f-696e-4173-a48a-5996ddc8ab9a"
      },
      "execution_count": null,
      "outputs": [
        {
          "output_type": "stream",
          "name": "stdout",
          "text": [
            "                             title release_year  average_score\n",
            "97                   Shin Ultraman         2023          7.910\n",
            "96                        Aftersun         2022          8.320\n",
            "95                Quo Vadis, Aida?         2021          8.462\n",
            "94                     Wolfwalkers         2020          8.352\n",
            "93                        Parasite         2019          8.766\n",
            "..                             ...          ...            ...\n",
            "4   All Quiet on the Western Front         1930          8.486\n",
            "3                       The Circus         1929          8.240\n",
            "2                  The Jazz Singer         1927          6.536\n",
            "1              Battleship Potemkin         1926          8.712\n",
            "0                      Intolerance         1916          8.254\n",
            "\n",
            "[98 rows x 3 columns]\n"
          ]
        }
      ]
    },
    {
      "cell_type": "markdown",
      "source": [
        "**Visualizing Data**"
      ],
      "metadata": {
        "id": "L-xZ9KXZ4k1Q"
      }
    },
    {
      "cell_type": "code",
      "source": [
        "# ‘rating’별 ‘average_score’의 평균을 구하고 변수 ‘rate_average’에 저장하여라.\n",
        "\n",
        "rate_average = df.groupby('rating')['average_score'].mean()"
      ],
      "metadata": {
        "id": "ma4TH-uo4n0T"
      },
      "execution_count": null,
      "outputs": []
    },
    {
      "cell_type": "code",
      "source": [
        "# 위의 ‘rate_average’를 시각화 하여라. \n",
        "\n",
        "# sort the data by mean score and get the top 20 values\n",
        "rate_top20 = rate_average.sort_values(ascending=False)[:20]\n",
        "\n",
        "# create a bar chart\n",
        "fig, ax = plt.subplots()\n",
        "ax.bar(rate_top20.index, rate_top20.values)\n",
        "\n",
        "# set the chart title and axis labels\n",
        "ax.set_title('Average Score by Rating (Top 20)')\n",
        "ax.set_xlabel('Rating')\n",
        "ax.set_ylabel('Average Score')\n",
        "\n",
        "# rotate the x-axis labels to prevent overlapping\n",
        "plt.xticks(rotation=90)\n",
        "\n",
        "# show the chart\n",
        "plt.show()"
      ],
      "metadata": {
        "colab": {
          "base_uri": "https://localhost:8080/",
          "height": 335
        },
        "id": "RGW-FEhc51hx",
        "outputId": "3472b83b-492f-4bde-af01-688eda1b8c3f"
      },
      "execution_count": null,
      "outputs": [
        {
          "output_type": "display_data",
          "data": {
            "text/plain": [
              "<Figure size 432x288 with 1 Axes>"
            ],
            "image/png": "[encoded data removed]"
          },
          "metadata": {
            "needs_background": "light"
          }
        }
      ]
    },
    {
      "cell_type": "code",
      "source": [
        "#  ‘data_2’를 이용하여 2000년 이후에 개봉 된 영화들의 각 연도별 평균 ‘meta_score’과 ‘user_score’, ‘average_score’의 변화를 각각 꺾은선 그래프로 나타내어라. \n",
        "\n",
        "# load the data\n",
        "data_2 = pd.read_csv('data_2.csv')\n",
        "\n",
        "# filter the data to include only movies released after 2000\n",
        "data_2 = data_2[data_2['release_year'] >= 2000]\n",
        "\n",
        "# calculate the mean scores for each year\n",
        "yearly_mean = data_2.groupby('release_year')[['meta_score', 'user_score', 'average_score']].mean()\n",
        "\n",
        "# create a line chart for each score type with dots\n",
        "fig, ax = plt.subplots()\n",
        "ax.plot(yearly_mean.index, yearly_mean['meta_score'], label='Meta Score', marker='o')\n",
        "ax.plot(yearly_mean.index, yearly_mean['user_score'], label='User Score', marker='o')\n",
        "ax.plot(yearly_mean.index, yearly_mean['average_score'], label='Average Score', marker='o')\n",
        "\n",
        "# set the chart title and axis labels\n",
        "ax.set_title('Mean Scores for Movies Released after 2000')\n",
        "ax.set_xlabel('Year')\n",
        "ax.set_ylabel('Score')\n",
        "\n",
        "# show the legend\n",
        "ax.legend()\n",
        "\n",
        "# show the chart\n",
        "plt.show()"
      ],
      "metadata": {
        "colab": {
          "base_uri": "https://localhost:8080/",
          "height": 295
        },
        "id": "3lrRvO9Y6mID",
        "outputId": "0a67b0d1-e5ad-497e-d201-9e1d6fd9acc5"
      },
      "execution_count": null,
      "outputs": [
        {
          "output_type": "display_data",
          "data": {
            "text/plain": [
              "<Figure size 432x288 with 1 Axes>"
            ],
            "image/png": "[encoded data removed]"
          },
          "metadata": {
            "needs_background": "light"
          }
        }
      ]
    },
    {
      "cell_type": "code",
      "source": [
        "# ‘data_2’를 이용하여 ‘average_score’ 상위 5개 영화를 골라내고, 해당 영화들의 ‘meta_score’, ‘user_score’, ‘average_score’ 3개의 열을 차례대로 나타낸 막대 그래프를 그려라. \n",
        "\n",
        "# pick out the top 5 movies by 'average_score'\n",
        "top5 = data_2.sort_values('average_score', ascending=False).head(5)\n",
        "\n",
        "# create a bar plot for each movie's 'meta_score', 'user_score', and 'average_score'\n",
        "fig, ax = plt.subplots(figsize=(10, 5))\n",
        "bar_width = 0.2\n",
        "x_pos = np.arange(len(top5))\n",
        "\n",
        "ax.bar(x_pos, top5['meta_score'], bar_width, align='center', label='meta_score')\n",
        "ax.bar(x_pos + bar_width, top5['user_score'], bar_width, align='center', label='user_score')\n",
        "ax.bar(x_pos + 2 * bar_width, top5['average_score'], bar_width, align='center', label='average_score')\n",
        "\n",
        "# set the x-axis ticks and labels\n",
        "ax.set_xticks(x_pos + bar_width)\n",
        "ax.set_xticklabels(top5['title'], rotation=90)\n",
        "\n",
        "# Set the x-axis tick labels to be horizontal\n",
        "ax.set_xticklabels(top_5['title'], rotation=0)\n",
        "\n",
        "# set the axis labels and title\n",
        "ax.set_xlabel('Movie Title')\n",
        "ax.set_ylabel('Score')\n",
        "ax.set_title('Top 5 Movies by Average Score')\n",
        "\n",
        "# add a legend\n",
        "ax.legend()\n",
        "\n",
        "# show the plot\n",
        "plt.show()"
      ],
      "metadata": {
        "colab": {
          "base_uri": "https://localhost:8080/",
          "height": 350
        },
        "id": "nWNRK7Nx7ZaU",
        "outputId": "b296f0bf-5548-4934-8fe7-a49a893df0fe"
      },
      "execution_count": null,
      "outputs": [
        {
          "output_type": "display_data",
          "data": {
            "text/plain": [
              "<Figure size 720x360 with 1 Axes>"
            ],
            "image/png": "[encoded data removed]"
          },
          "metadata": {
            "needs_background": "light"
          }
        }
      ]
    },
    {
      "cell_type": "code",
      "source": [],
      "metadata": {
        "id": "5Yf1PXkSlpFR"
      },
      "execution_count": null,
      "outputs": []
    }
  ]
}