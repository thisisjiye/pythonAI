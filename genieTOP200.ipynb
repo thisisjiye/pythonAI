{
 "cells": [
  {
   "cell_type": "code",
   "execution_count": null,
   "source": [
    "\n",
    "import warnings\n",
    "warnings.filterwarnings(action='ignore')\n",
    "import requests\n",
    "from bs4 import BeautifulSoup\n",
    "from datetime import datetime as dt"
   ],
   "outputs": [],
   "metadata": {}
  },
  {
   "cell_type": "code",
   "execution_count": null,
   "source": [
    "# 타겟 사이트 주소 만들기\n",
    "# https://www.genie.co.kr/chart/top200?ditc=D&ymd=20210901&hh=20&rtm=Y&pg=1 =>   1 ~  50\n",
    "# https://www.genie.co.kr/chart/top200?ditc=D&ymd=20210901&hh=20&rtm=Y&pg=2 =>  51 ~ 100\n",
    "# https://www.genie.co.kr/chart/top200?ditc=D&ymd=20210901&hh=20&rtm=Y&pg=3 => 101 ~ 150\n",
    "# https://www.genie.co.kr/chart/top200?ditc=D&ymd=20210901&hh=20&rtm=Y&pg=4 => 151 ~ 200\n",
    "url = 'https://www.genie.co.kr/chart/top200?ditc=D&ymd=20210901&hh=20&rtm=Y&pg='\n",
    "for i in range(1, 5):\n",
    "    # targetSite = url + str(i)\n",
    "    targetSite = '{}{}'.format(url, i)\n",
    "    print(targetSite)"
   ],
   "outputs": [],
   "metadata": {}
  },
  {
   "cell_type": "code",
   "execution_count": null,
   "source": [
    "# 노래 제목 크롤링\n",
    "url = 'https://www.genie.co.kr/chart/top200?ditc=D&ymd=20210901&hh=20&rtm=Y&pg='\n",
    "header = {'User-agent': 'Mozilla/5.0 (Windows NT 6.1; WOW64; Trident/7.0; rv:11.0) like Gecko'}\n",
    "for i in range(1, 2):\n",
    "    targetSite = '{}{}'.format(url, i)\n",
    "    request = requests.get(targetSite, headers=header)\n",
    "    # print(request)\n",
    "    html = request.text\n",
    "    soup = BeautifulSoup(html, 'html.parser')\n",
    "    # print(soup)\n",
    "    \n",
    "    titles = soup.findAll('a', {'class': 'title ellipsis'})\n",
    "    # print(titles)\n",
    "    # print(len(titles))\n",
    "    \n",
    "    for i in range(len(titles)):\n",
    "        # print('{0:3d}위 {1}'.format(i + 1, titles[i].text.strip()))\n",
    "        # print('{0:3d}위 {1}'.format(i + 1, titles[i].text.split('\\n')[-1].strip()))\n",
    "        print('{0:3d}위 {1}'.format(i + 1, titles[i].text.strip().split('\\n')[0]))"
   ],
   "outputs": [],
   "metadata": {}
  },
  {
   "cell_type": "code",
   "execution_count": null,
   "source": [
    "# 아트스트 크롤링\n",
    "url = 'https://www.genie.co.kr/chart/top200?ditc=D&ymd=20210901&hh=20&rtm=Y&pg='\n",
    "header = {'User-agent': 'Mozilla/5.0 (Windows NT 6.1; WOW64; Trident/7.0; rv:11.0) like Gecko'}\n",
    "for i in range(1, 2):\n",
    "    targetSite = '{}{}'.format(url, i)\n",
    "    request = requests.get(targetSite, headers=header)\n",
    "    html = request.text\n",
    "    soup = BeautifulSoup(html, 'html.parser')\n",
    "\n",
    "    artists = soup.findAll('a', {'class': 'artist ellipsis'})\n",
    "    # print(artists)\n",
    "    # print(len(artists))\n",
    "    \n",
    "    for i in range(5, len(artists)):\n",
    "        # print('{0:3d}위 {1}'.format(i - 4, artists[i].text.strip()))\n",
    "        # print('{0:3d}위 {1}'.format(i - 4, artists[i].text.split('\\n')[0]))\n",
    "        print('{0:3d}위 {1}'.format(i - 4, artists[i].text.strip().split('\\n')[0]))\n"
   ],
   "outputs": [],
   "metadata": {}
  },
  {
   "cell_type": "code",
   "execution_count": null,
   "source": [
    "# 크롤링한 데이터를 리스트에 저장한다.\n",
    "genie = []\n",
    "url = 'https://www.genie.co.kr/chart/top200?ditc=D&ymd=20210901&hh=20&rtm=Y&pg='\n",
    "header = {'User-agent': 'Mozilla/5.0 (Windows NT 6.1; WOW64; Trident/7.0; rv:11.0) like Gecko'}\n",
    "for i in range(1, 5):\n",
    "    targetSite = '{}{}'.format(url, i)\n",
    "    request = requests.get(targetSite, headers=header)\n",
    "    html = request.text\n",
    "    soup = BeautifulSoup(html, 'html.parser')\n",
    "\n",
    "    titles = soup.findAll('a', {'class': 'title ellipsis'})\n",
    "    artists = soup.findAll('a', {'class': 'artist ellipsis'})\n",
    "    \n",
    "    for j in range(50):\n",
    "        genie.append(\n",
    "            (artists[j + 5].text.strip().split('\\n')[0], titles[j].text.strip().split('\\n')[0])\n",
    "        )\n",
    "# print(len(genie))\n",
    "print(genie)\n"
   ],
   "outputs": [],
   "metadata": {}
  },
  {
   "cell_type": "code",
   "execution_count": null,
   "source": [
    "print(dt.now())\n",
    "for i in range(200):\n",
    "    print('{0:3d}위 {1} - {2}'.format(i + 1, genie[i][0], genie[i][1]))"
   ],
   "outputs": [],
   "metadata": {}
  },
  {
   "cell_type": "code",
   "execution_count": null,
   "source": [
    "# 크롤링한 결과를 텍스트 파일로 저장한다.\n",
    "file = open('./output/genieTOP200.txt', 'w')\n",
    "# 위의 문장처럼 실행했는데 에러가 발생하면 아래와 같이 open() 함수를 수정한다.\n",
    "# file = open('./output/genieTOP200.txt', 'w', -1, 'UTF-8')\n",
    "file.write('{} 현재 Genie 뮤직 실시간 TOP 100\\n'.format(dt.now()))\n",
    "for i in range(200):\n",
    "    file.write('{0:3d}위 {1} - {2}\\n'.format(i + 1, genie[i][0], genie[i][1]))\n",
    "file.close()\n",
    "print('genieTOP200.txt 파일로 쓰기 완료')\n"
   ],
   "outputs": [],
   "metadata": {}
  },
  {
   "cell_type": "code",
   "execution_count": null,
   "source": [
    "\n",
    "# 텍스트 파일에 저장된 데이터를 읽어서 화면에 출력한다.\n",
    "try:\n",
    "    file = open('./output/genieTOP200.txt', 'r')\n",
    "    lines = file.readlines()\n",
    "    for line in lines:\n",
    "        print(line.strip())\n",
    "    file.close()\n",
    "    print('genieTOP200.txt 파일에서 읽기 완료')\n",
    "except FileNotFoundError:\n",
    "    print('디스크에 genieTOP200.txt 파일이 없습니다.')"
   ],
   "outputs": [],
   "metadata": {}
  }
 ],
 "metadata": {
  "orig_nbformat": 4,
  "language_info": {
   "name": "python"
  }
 },
 "nbformat": 4,
 "nbformat_minor": 2
}