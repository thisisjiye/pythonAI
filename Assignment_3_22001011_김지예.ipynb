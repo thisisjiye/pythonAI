{
  "nbformat": 4,
  "nbformat_minor": 0,
  "metadata": {
    "colab": {
      "provenance": []
    },
    "kernelspec": {
      "name": "python3",
      "display_name": "Python 3"
    },
    "language_info": {
      "name": "python"
    }
  },
  "cells": [
    {
      "cell_type": "markdown",
      "source": [
        "**Problem Definition**\n",
        "\n",
        "전기 도금처리 시 전처리 공정의 산제 전처리 데이터에서 AI를 이용하여 분석하고 예측한다.\n",
        "\n",
        "\n",
        "**시계열성 데이터**\n",
        "\n",
        "제조 공정에서 발생하는 데이터를 크게 이미지 데이터와 시계열 데이터로 구분.\n",
        "이미지 데이터는 인간의 육안으로도 확인 가능.\n",
        "반면, 시계열 데이터는 반복적인 패턴으로 보이지만 표준적으로 정의하기 어려움.\n",
        "또한, 여러 센서들로 수집된 복잡한 관련성을 이해하기 불가능한 고차원 데이터이기도 함.\n",
        "따라서, 시각적으로는 표현할 수 없지만 x, y, z를 넘어서 유연하게 확장할 수 있는 시계열 데이터에 집중할 수밖에 없음"
      ],
      "metadata": {
        "id": "fxBnd9zdjyWq"
      }
    },
    {
      "cell_type": "markdown",
      "source": [
        "1. 데이터 불러와서 3가지 방법으로 코드 분석"
      ],
      "metadata": {
        "id": "LWeYxZRSiNdt"
      }
    },
    {
      "cell_type": "code",
      "execution_count": 142,
      "metadata": {
        "colab": {
          "base_uri": "https://localhost:8080/",
          "height": 424
        },
        "id": "tUeGOumyg2VE",
        "outputId": "95f28206-4a87-48d1-c28f-26864dda6ec0"
      },
      "outputs": [
        {
          "output_type": "execute_result",
          "data": {
            "text/plain": [
              "                      date  LoT    pH   Temp  Process\n",
              "0      2021-09-06 09:01:18    1  1.02  47.18    96.38\n",
              "1      2021-09-06 09:01:23    1  1.05  47.34    96.38\n",
              "2      2021-09-06 09:01:28    1  1.09  48.45    96.38\n",
              "3      2021-09-06 09:01:33    1  1.12  48.46    96.38\n",
              "4      2021-09-06 09:01:38    1  1.15  48.47    96.38\n",
              "...                    ...  ...   ...    ...      ...\n",
              "50089  2021-10-27 11:14:41   22  2.79  51.83    96.03\n",
              "50090  2021-10-27 11:14:46   22  3.62  42.20    96.03\n",
              "50091  2021-10-27 11:14:51   22  3.40  41.88    96.03\n",
              "50092  2021-10-27 11:14:56   22  3.59  40.62    96.03\n",
              "50093  2021-10-27 11:15:01   22  3.82  42.08    96.03\n",
              "\n",
              "[50094 rows x 5 columns]"
            ],
            "text/html": [
              "\n",
              "  <div id=\"df-9382ab39-6d4a-4eb1-a9f3-257031755587\">\n",
              "    <div class=\"colab-df-container\">\n",
              "      <div>\n",
              "<style scoped>\n",
              "    .dataframe tbody tr th:only-of-type {\n",
              "        vertical-align: middle;\n",
              "    }\n",
              "\n",
              "    .dataframe tbody tr th {\n",
              "        vertical-align: top;\n",
              "    }\n",
              "\n",
              "    .dataframe thead th {\n",
              "        text-align: right;\n",
              "    }\n",
              "</style>\n",
              "<table border=\"1\" class=\"dataframe\">\n",
              "  <thead>\n",
              "    <tr style=\"text-align: right;\">\n",
              "      <th></th>\n",
              "      <th>date</th>\n",
              "      <th>LoT</th>\n",
              "      <th>pH</th>\n",
              "      <th>Temp</th>\n",
              "      <th>Process</th>\n",
              "    </tr>\n",
              "  </thead>\n",
              "  <tbody>\n",
              "    <tr>\n",
              "      <th>0</th>\n",
              "      <td>2021-09-06 09:01:18</td>\n",
              "      <td>1</td>\n",
              "      <td>1.02</td>\n",
              "      <td>47.18</td>\n",
              "      <td>96.38</td>\n",
              "    </tr>\n",
              "    <tr>\n",
              "      <th>1</th>\n",
              "      <td>2021-09-06 09:01:23</td>\n",
              "      <td>1</td>\n",
              "      <td>1.05</td>\n",
              "      <td>47.34</td>\n",
              "      <td>96.38</td>\n",
              "    </tr>\n",
              "    <tr>\n",
              "      <th>2</th>\n",
              "      <td>2021-09-06 09:01:28</td>\n",
              "      <td>1</td>\n",
              "      <td>1.09</td>\n",
              "      <td>48.45</td>\n",
              "      <td>96.38</td>\n",
              "    </tr>\n",
              "    <tr>\n",
              "      <th>3</th>\n",
              "      <td>2021-09-06 09:01:33</td>\n",
              "      <td>1</td>\n",
              "      <td>1.12</td>\n",
              "      <td>48.46</td>\n",
              "      <td>96.38</td>\n",
              "    </tr>\n",
              "    <tr>\n",
              "      <th>4</th>\n",
              "      <td>2021-09-06 09:01:38</td>\n",
              "      <td>1</td>\n",
              "      <td>1.15</td>\n",
              "      <td>48.47</td>\n",
              "      <td>96.38</td>\n",
              "    </tr>\n",
              "    <tr>\n",
              "      <th>...</th>\n",
              "      <td>...</td>\n",
              "      <td>...</td>\n",
              "      <td>...</td>\n",
              "      <td>...</td>\n",
              "      <td>...</td>\n",
              "    </tr>\n",
              "    <tr>\n",
              "      <th>50089</th>\n",
              "      <td>2021-10-27 11:14:41</td>\n",
              "      <td>22</td>\n",
              "      <td>2.79</td>\n",
              "      <td>51.83</td>\n",
              "      <td>96.03</td>\n",
              "    </tr>\n",
              "    <tr>\n",
              "      <th>50090</th>\n",
              "      <td>2021-10-27 11:14:46</td>\n",
              "      <td>22</td>\n",
              "      <td>3.62</td>\n",
              "      <td>42.20</td>\n",
              "      <td>96.03</td>\n",
              "    </tr>\n",
              "    <tr>\n",
              "      <th>50091</th>\n",
              "      <td>2021-10-27 11:14:51</td>\n",
              "      <td>22</td>\n",
              "      <td>3.40</td>\n",
              "      <td>41.88</td>\n",
              "      <td>96.03</td>\n",
              "    </tr>\n",
              "    <tr>\n",
              "      <th>50092</th>\n",
              "      <td>2021-10-27 11:14:56</td>\n",
              "      <td>22</td>\n",
              "      <td>3.59</td>\n",
              "      <td>40.62</td>\n",
              "      <td>96.03</td>\n",
              "    </tr>\n",
              "    <tr>\n",
              "      <th>50093</th>\n",
              "      <td>2021-10-27 11:15:01</td>\n",
              "      <td>22</td>\n",
              "      <td>3.82</td>\n",
              "      <td>42.08</td>\n",
              "      <td>96.03</td>\n",
              "    </tr>\n",
              "  </tbody>\n",
              "</table>\n",
              "<p>50094 rows × 5 columns</p>\n",
              "</div>\n",
              "      <button class=\"colab-df-convert\" onclick=\"convertToInteractive('df-9382ab39-6d4a-4eb1-a9f3-257031755587')\"\n",
              "              title=\"Convert this dataframe to an interactive table.\"\n",
              "              style=\"display:none;\">\n",
              "        \n",
              "  <svg xmlns=\"http://www.w3.org/2000/svg\" height=\"24px\"viewBox=\"0 0 24 24\"\n",
              "       width=\"24px\">\n",
              "    <path d=\"M0 0h24v24H0V0z\" fill=\"none\"/>\n",
              "    <path d=\"M18.56 5.44l.94 2.06.94-2.06 2.06-.94-2.06-.94-.94-2.06-.94 2.06-2.06.94zm-11 1L8.5 8.5l.94-2.06 2.06-.94-2.06-.94L8.5 2.5l-.94 2.06-2.06.94zm10 10l.94 2.06.94-2.06 2.06-.94-2.06-.94-.94-2.06-.94 2.06-2.06.94z\"/><path d=\"M17.41 7.96l-1.37-1.37c-.4-.4-.92-.59-1.43-.59-.52 0-1.04.2-1.43.59L10.3 9.45l-7.72 7.72c-.78.78-.78 2.05 0 2.83L4 21.41c.39.39.9.59 1.41.59.51 0 1.02-.2 1.41-.59l7.78-7.78 2.81-2.81c.8-.78.8-2.07 0-2.86zM5.41 20L4 18.59l7.72-7.72 1.47 1.35L5.41 20z\"/>\n",
              "  </svg>\n",
              "      </button>\n",
              "      \n",
              "  <style>\n",
              "    .colab-df-container {\n",
              "      display:flex;\n",
              "      flex-wrap:wrap;\n",
              "      gap: 12px;\n",
              "    }\n",
              "\n",
              "    .colab-df-convert {\n",
              "      background-color: #E8F0FE;\n",
              "      border: none;\n",
              "      border-radius: 50%;\n",
              "      cursor: pointer;\n",
              "      display: none;\n",
              "      fill: #1967D2;\n",
              "      height: 32px;\n",
              "      padding: 0 0 0 0;\n",
              "      width: 32px;\n",
              "    }\n",
              "\n",
              "    .colab-df-convert:hover {\n",
              "      background-color: #E2EBFA;\n",
              "      box-shadow: 0px 1px 2px rgba(60, 64, 67, 0.3), 0px 1px 3px 1px rgba(60, 64, 67, 0.15);\n",
              "      fill: #174EA6;\n",
              "    }\n",
              "\n",
              "    [theme=dark] .colab-df-convert {\n",
              "      background-color: #3B4455;\n",
              "      fill: #D2E3FC;\n",
              "    }\n",
              "\n",
              "    [theme=dark] .colab-df-convert:hover {\n",
              "      background-color: #434B5C;\n",
              "      box-shadow: 0px 1px 3px 1px rgba(0, 0, 0, 0.15);\n",
              "      filter: drop-shadow(0px 1px 2px rgba(0, 0, 0, 0.3));\n",
              "      fill: #FFFFFF;\n",
              "    }\n",
              "  </style>\n",
              "\n",
              "      <script>\n",
              "        const buttonEl =\n",
              "          document.querySelector('#df-9382ab39-6d4a-4eb1-a9f3-257031755587 button.colab-df-convert');\n",
              "        buttonEl.style.display =\n",
              "          google.colab.kernel.accessAllowed ? 'block' : 'none';\n",
              "\n",
              "        async function convertToInteractive(key) {\n",
              "          const element = document.querySelector('#df-9382ab39-6d4a-4eb1-a9f3-257031755587');\n",
              "          const dataTable =\n",
              "            await google.colab.kernel.invokeFunction('convertToInteractive',\n",
              "                                                     [key], {});\n",
              "          if (!dataTable) return;\n",
              "\n",
              "          const docLinkHtml = 'Like what you see? Visit the ' +\n",
              "            '<a target=\"_blank\" href=https://colab.research.google.com/notebooks/data_table.ipynb>data table notebook</a>'\n",
              "            + ' to learn more about interactive tables.';\n",
              "          element.innerHTML = '';\n",
              "          dataTable['output_type'] = 'display_data';\n",
              "          await google.colab.output.renderOutput(dataTable, element);\n",
              "          const docLink = document.createElement('div');\n",
              "          docLink.innerHTML = docLinkHtml;\n",
              "          element.appendChild(docLink);\n",
              "        }\n",
              "      </script>\n",
              "    </div>\n",
              "  </div>\n",
              "  "
            ]
          },
          "metadata": {},
          "execution_count": 142
        }
      ],
      "source": [
        "# 데이터 불러오기\n",
        "import pandas as pd\n",
        "data = pd.read_csv('Assignment3.csv')\n",
        "\n",
        "data"
      ]
    },
    {
      "cell_type": "code",
      "source": [
        "# 데이터의 상위 5개의 행 출력\n",
        "data.head()"
      ],
      "metadata": {
        "colab": {
          "base_uri": "https://localhost:8080/",
          "height": 206
        },
        "id": "1e6w2JKKiBFi",
        "outputId": "bf0d99fd-ec12-43bd-eed1-1e4c3d5a526d"
      },
      "execution_count": 143,
      "outputs": [
        {
          "output_type": "execute_result",
          "data": {
            "text/plain": [
              "                  date  LoT    pH   Temp  Process\n",
              "0  2021-09-06 09:01:18    1  1.02  47.18    96.38\n",
              "1  2021-09-06 09:01:23    1  1.05  47.34    96.38\n",
              "2  2021-09-06 09:01:28    1  1.09  48.45    96.38\n",
              "3  2021-09-06 09:01:33    1  1.12  48.46    96.38\n",
              "4  2021-09-06 09:01:38    1  1.15  48.47    96.38"
            ],
            "text/html": [
              "\n",
              "  <div id=\"df-53ba6d97-f5aa-498d-8059-d6dd22fabd4a\">\n",
              "    <div class=\"colab-df-container\">\n",
              "      <div>\n",
              "<style scoped>\n",
              "    .dataframe tbody tr th:only-of-type {\n",
              "        vertical-align: middle;\n",
              "    }\n",
              "\n",
              "    .dataframe tbody tr th {\n",
              "        vertical-align: top;\n",
              "    }\n",
              "\n",
              "    .dataframe thead th {\n",
              "        text-align: right;\n",
              "    }\n",
              "</style>\n",
              "<table border=\"1\" class=\"dataframe\">\n",
              "  <thead>\n",
              "    <tr style=\"text-align: right;\">\n",
              "      <th></th>\n",
              "      <th>date</th>\n",
              "      <th>LoT</th>\n",
              "      <th>pH</th>\n",
              "      <th>Temp</th>\n",
              "      <th>Process</th>\n",
              "    </tr>\n",
              "  </thead>\n",
              "  <tbody>\n",
              "    <tr>\n",
              "      <th>0</th>\n",
              "      <td>2021-09-06 09:01:18</td>\n",
              "      <td>1</td>\n",
              "      <td>1.02</td>\n",
              "      <td>47.18</td>\n",
              "      <td>96.38</td>\n",
              "    </tr>\n",
              "    <tr>\n",
              "      <th>1</th>\n",
              "      <td>2021-09-06 09:01:23</td>\n",
              "      <td>1</td>\n",
              "      <td>1.05</td>\n",
              "      <td>47.34</td>\n",
              "      <td>96.38</td>\n",
              "    </tr>\n",
              "    <tr>\n",
              "      <th>2</th>\n",
              "      <td>2021-09-06 09:01:28</td>\n",
              "      <td>1</td>\n",
              "      <td>1.09</td>\n",
              "      <td>48.45</td>\n",
              "      <td>96.38</td>\n",
              "    </tr>\n",
              "    <tr>\n",
              "      <th>3</th>\n",
              "      <td>2021-09-06 09:01:33</td>\n",
              "      <td>1</td>\n",
              "      <td>1.12</td>\n",
              "      <td>48.46</td>\n",
              "      <td>96.38</td>\n",
              "    </tr>\n",
              "    <tr>\n",
              "      <th>4</th>\n",
              "      <td>2021-09-06 09:01:38</td>\n",
              "      <td>1</td>\n",
              "      <td>1.15</td>\n",
              "      <td>48.47</td>\n",
              "      <td>96.38</td>\n",
              "    </tr>\n",
              "  </tbody>\n",
              "</table>\n",
              "</div>\n",
              "      <button class=\"colab-df-convert\" onclick=\"convertToInteractive('df-53ba6d97-f5aa-498d-8059-d6dd22fabd4a')\"\n",
              "              title=\"Convert this dataframe to an interactive table.\"\n",
              "              style=\"display:none;\">\n",
              "        \n",
              "  <svg xmlns=\"http://www.w3.org/2000/svg\" height=\"24px\"viewBox=\"0 0 24 24\"\n",
              "       width=\"24px\">\n",
              "    <path d=\"M0 0h24v24H0V0z\" fill=\"none\"/>\n",
              "    <path d=\"M18.56 5.44l.94 2.06.94-2.06 2.06-.94-2.06-.94-.94-2.06-.94 2.06-2.06.94zm-11 1L8.5 8.5l.94-2.06 2.06-.94-2.06-.94L8.5 2.5l-.94 2.06-2.06.94zm10 10l.94 2.06.94-2.06 2.06-.94-2.06-.94-.94-2.06-.94 2.06-2.06.94z\"/><path d=\"M17.41 7.96l-1.37-1.37c-.4-.4-.92-.59-1.43-.59-.52 0-1.04.2-1.43.59L10.3 9.45l-7.72 7.72c-.78.78-.78 2.05 0 2.83L4 21.41c.39.39.9.59 1.41.59.51 0 1.02-.2 1.41-.59l7.78-7.78 2.81-2.81c.8-.78.8-2.07 0-2.86zM5.41 20L4 18.59l7.72-7.72 1.47 1.35L5.41 20z\"/>\n",
              "  </svg>\n",
              "      </button>\n",
              "      \n",
              "  <style>\n",
              "    .colab-df-container {\n",
              "      display:flex;\n",
              "      flex-wrap:wrap;\n",
              "      gap: 12px;\n",
              "    }\n",
              "\n",
              "    .colab-df-convert {\n",
              "      background-color: #E8F0FE;\n",
              "      border: none;\n",
              "      border-radius: 50%;\n",
              "      cursor: pointer;\n",
              "      display: none;\n",
              "      fill: #1967D2;\n",
              "      height: 32px;\n",
              "      padding: 0 0 0 0;\n",
              "      width: 32px;\n",
              "    }\n",
              "\n",
              "    .colab-df-convert:hover {\n",
              "      background-color: #E2EBFA;\n",
              "      box-shadow: 0px 1px 2px rgba(60, 64, 67, 0.3), 0px 1px 3px 1px rgba(60, 64, 67, 0.15);\n",
              "      fill: #174EA6;\n",
              "    }\n",
              "\n",
              "    [theme=dark] .colab-df-convert {\n",
              "      background-color: #3B4455;\n",
              "      fill: #D2E3FC;\n",
              "    }\n",
              "\n",
              "    [theme=dark] .colab-df-convert:hover {\n",
              "      background-color: #434B5C;\n",
              "      box-shadow: 0px 1px 3px 1px rgba(0, 0, 0, 0.15);\n",
              "      filter: drop-shadow(0px 1px 2px rgba(0, 0, 0, 0.3));\n",
              "      fill: #FFFFFF;\n",
              "    }\n",
              "  </style>\n",
              "\n",
              "      <script>\n",
              "        const buttonEl =\n",
              "          document.querySelector('#df-53ba6d97-f5aa-498d-8059-d6dd22fabd4a button.colab-df-convert');\n",
              "        buttonEl.style.display =\n",
              "          google.colab.kernel.accessAllowed ? 'block' : 'none';\n",
              "\n",
              "        async function convertToInteractive(key) {\n",
              "          const element = document.querySelector('#df-53ba6d97-f5aa-498d-8059-d6dd22fabd4a');\n",
              "          const dataTable =\n",
              "            await google.colab.kernel.invokeFunction('convertToInteractive',\n",
              "                                                     [key], {});\n",
              "          if (!dataTable) return;\n",
              "\n",
              "          const docLinkHtml = 'Like what you see? Visit the ' +\n",
              "            '<a target=\"_blank\" href=https://colab.research.google.com/notebooks/data_table.ipynb>data table notebook</a>'\n",
              "            + ' to learn more about interactive tables.';\n",
              "          element.innerHTML = '';\n",
              "          dataTable['output_type'] = 'display_data';\n",
              "          await google.colab.output.renderOutput(dataTable, element);\n",
              "          const docLink = document.createElement('div');\n",
              "          docLink.innerHTML = docLinkHtml;\n",
              "          element.appendChild(docLink);\n",
              "        }\n",
              "      </script>\n",
              "    </div>\n",
              "  </div>\n",
              "  "
            ]
          },
          "metadata": {},
          "execution_count": 143
        }
      ]
    },
    {
      "cell_type": "code",
      "source": [
        "# 데이터에 대한 전반적인 정보 출력 (행과 열의 크기, 컬럼명, 컬럼을 구성하는 값의 자료형)\n",
        "data.info"
      ],
      "metadata": {
        "colab": {
          "base_uri": "https://localhost:8080/"
        },
        "id": "WZ9_u_rAhUuT",
        "outputId": "979459d4-ad4d-4596-8a01-7345ad5da721"
      },
      "execution_count": 144,
      "outputs": [
        {
          "output_type": "execute_result",
          "data": {
            "text/plain": [
              "<bound method DataFrame.info of                       date  LoT    pH   Temp  Process\n",
              "0      2021-09-06 09:01:18    1  1.02  47.18    96.38\n",
              "1      2021-09-06 09:01:23    1  1.05  47.34    96.38\n",
              "2      2021-09-06 09:01:28    1  1.09  48.45    96.38\n",
              "3      2021-09-06 09:01:33    1  1.12  48.46    96.38\n",
              "4      2021-09-06 09:01:38    1  1.15  48.47    96.38\n",
              "...                    ...  ...   ...    ...      ...\n",
              "50089  2021-10-27 11:14:41   22  2.79  51.83    96.03\n",
              "50090  2021-10-27 11:14:46   22  3.62  42.20    96.03\n",
              "50091  2021-10-27 11:14:51   22  3.40  41.88    96.03\n",
              "50092  2021-10-27 11:14:56   22  3.59  40.62    96.03\n",
              "50093  2021-10-27 11:15:01   22  3.82  42.08    96.03\n",
              "\n",
              "[50094 rows x 5 columns]>"
            ]
          },
          "metadata": {},
          "execution_count": 144
        }
      ]
    },
    {
      "cell_type": "code",
      "source": [
        "# 데이터의 (행, 열)의 크기 확인\n",
        "data.shape"
      ],
      "metadata": {
        "colab": {
          "base_uri": "https://localhost:8080/"
        },
        "id": "mrWuop3giCE1",
        "outputId": "c7c775f3-065d-4e23-888a-78d0e18a84c0"
      },
      "execution_count": 145,
      "outputs": [
        {
          "output_type": "execute_result",
          "data": {
            "text/plain": [
              "(50094, 5)"
            ]
          },
          "metadata": {},
          "execution_count": 145
        }
      ]
    },
    {
      "cell_type": "markdown",
      "source": [
        "2. 데이터의 시계열 특성 분석"
      ],
      "metadata": {
        "id": "6l0e6BkbjKs1"
      }
    },
    {
      "cell_type": "code",
      "source": [
        "# 시계열 데이터로 변환\n",
        "data['date'] = pd.to_datetime(data['date'])\n",
        "\n",
        "# 날짜를 인덱스로 설정\n",
        "data.set_index('date', inplace=True)\n",
        "\n",
        "# 월별 데이터 합계 계산\n",
        "monthly_data = data.resample('M').sum()\n",
        "\n",
        "# 월별 데이터 시각화\n",
        "monthly_data['Process'].plot(kind='line', figsize=(10, 6), title='Monthly Process')"
      ],
      "metadata": {
        "colab": {
          "base_uri": "https://localhost:8080/",
          "height": 596
        },
        "id": "VX2PR9W6j76q",
        "outputId": "e8138d4a-4482-4463-eb98-912e0b6dda71"
      },
      "execution_count": 146,
      "outputs": [
        {
          "output_type": "execute_result",
          "data": {
            "text/plain": [
              "<Axes: title={'center': 'Monthly Process'}, xlabel='date'>"
            ]
          },
          "metadata": {},
          "execution_count": 146
        },
        {
          "output_type": "display_data",
          "data": {
            "text/plain": [
              "<Figure size 1000x600 with 1 Axes>"
            ],
            "image/png": "[encoded data removed]"
          },
          "metadata": {}
        }
      ]
    },
    {
      "cell_type": "markdown",
      "source": [
        "3.  '2021-10-19'이 포함된 이후의 데이터를 test data로 하고 이전을 train data로 하여 train, test set을 분리. (test>= '2021-10-19', train< '2021-10-19')"
      ],
      "metadata": {
        "id": "6wxYLO3kyaQA"
      }
    },
    {
      "cell_type": "code",
      "source": [
        "import pandas as pd\n",
        "\n",
        "# 데이터 불러오기\n",
        "data = pd.read_csv(\"Assignment3.csv\")\n",
        "\n",
        "# 'Date' 열을 날짜 형식으로 변환\n",
        "data['date'] = pd.to_datetime(data['date'])\n",
        "\n",
        "# 데이터 분할\n",
        "train_data = data[data['date'] < '2021-10-19']\n",
        "test_data = data[data['date'] >= '2021-10-19']\n",
        "\n",
        "# train 데이터 확인\n",
        "print(train_data.head())\n",
        "\n",
        "# test 데이터 확인\n",
        "print(test_data.head())"
      ],
      "metadata": {
        "colab": {
          "base_uri": "https://localhost:8080/"
        },
        "id": "YmlXaxNboKjX",
        "outputId": "057544dd-8419-4405-e15b-b3d7a32137d8"
      },
      "execution_count": 63,
      "outputs": [
        {
          "output_type": "stream",
          "name": "stdout",
          "text": [
            "                 date  LoT    pH   Temp  Process\n",
            "0 2021-09-06 09:01:18    1  1.02  47.18    96.38\n",
            "1 2021-09-06 09:01:23    1  1.05  47.34    96.38\n",
            "2 2021-09-06 09:01:28    1  1.09  48.45    96.38\n",
            "3 2021-09-06 09:01:33    1  1.12  48.46    96.38\n",
            "4 2021-09-06 09:01:38    1  1.15  48.47    96.38\n",
            "                     date  LoT    pH   Temp  Process\n",
            "39468 2021-10-19 09:01:10    1  1.08  47.64    82.44\n",
            "39469 2021-10-19 09:01:15    1  1.12  47.85    82.44\n",
            "39470 2021-10-19 09:01:20    1  1.12  48.07    82.44\n",
            "39471 2021-10-19 09:01:25    1  1.14  48.07    82.44\n",
            "39472 2021-10-19 09:01:30    1  1.15  48.12    82.44\n"
          ]
        }
      ]
    },
    {
      "cell_type": "markdown",
      "source": [
        "4. Deep learning의 regression모델과 SimpleRnn모델을 사용하고 다음의 조건을 따라 예측 모델 을 만들고 비교 검증"
      ],
      "metadata": {
        "id": "0C0XvQjEQlkb"
      }
    },
    {
      "cell_type": "code",
      "source": [
        "from sklearn.model_selection import train_test_split\n",
        "from sklearn.preprocessing import StandardScaler\n",
        "from sklearn.metrics import mean_absolute_error, mean_squared_error\n",
        "\n",
        "from tensorflow.keras.models import Sequential\n",
        "from tensorflow.keras.layers import Dense, SimpleRNN\n",
        "\n",
        "# 데이터 불러오기\n",
        "data = pd.read_csv(\"Assignment3.csv\")\n",
        "\n",
        "# 종속변수와 독립변수 선택\n",
        "X = data[['LoT', 'pH', 'Temp']].values\n",
        "y = data['Process'].values"
      ],
      "metadata": {
        "id": "R_JE2hVZniZW"
      },
      "execution_count": 64,
      "outputs": []
    },
    {
      "cell_type": "code",
      "source": [
        "# Standard Scaling 진행\n",
        "scaler = StandardScaler()\n",
        "X_scaled = scaler.fit_transform(X)"
      ],
      "metadata": {
        "id": "D911kORQx_k_"
      },
      "execution_count": 147,
      "outputs": []
    },
    {
      "cell_type": "code",
      "source": [
        "# Train-Test 분할\n",
        "X_train, X_test, y_train, y_test = train_test_split(X_scaled, y, test_size=0.2, random_state=42)"
      ],
      "metadata": {
        "id": "8HSJU26IyJnO"
      },
      "execution_count": 66,
      "outputs": []
    },
    {
      "cell_type": "code",
      "source": [
        "# 딥러닝 (DNN 모델)\n",
        "model_dnn = Sequential()\n",
        "model_dnn.add(Dense(64, activation='relu', input_shape=(3,)))\n",
        "model_dnn.add(Dense(64, activation='relu'))\n",
        "model_dnn.add(Dense(1))\n",
        "model_dnn.compile(optimizer='adam', loss='mean_squared_error')\n",
        "\n",
        "# 모델 학습\n",
        "model_dnn.fit(X_train, y_train, epochs=10, batch_size=32, verbose=0)\n",
        "\n",
        "# 예측\n",
        "y_pred_dnn = model_dnn.predict(X_test)\n",
        "\n",
        "# MAE 계산\n",
        "mae_dnn = mean_absolute_error(y_test, y_pred_dnn)\n",
        "\n",
        "# RMAE 계산\n",
        "rmae_dnn = np.sqrt(mean_absolute_error(y_test, y_pred_dnn))\n",
        "\n",
        "# MAPE 계산\n",
        "mape_dnn = np.mean(np.abs((y_test - y_pred_dnn) / y_test)) * 100\n",
        "\n",
        "print(\"DNN 모델 평가 결과:\")\n",
        "print(\"MAE:\", mae_dnn)\n",
        "print(\"RMAE:\", rmae_dnn)\n",
        "print(\"MAPE:\", mape_dnn)"
      ],
      "metadata": {
        "colab": {
          "base_uri": "https://localhost:8080/"
        },
        "id": "gkvdUJYH6-Oz",
        "outputId": "5b838a0d-109f-4d24-b6c5-25b07c72550b"
      },
      "execution_count": 67,
      "outputs": [
        {
          "output_type": "stream",
          "name": "stdout",
          "text": [
            "314/314 [==============================] - 0s 749us/step\n",
            "DNN 모델 평가 결과:\n",
            "MAE: 1.4234791380507896\n",
            "RMAE: 1.1930964496011165\n",
            "MAPE: 2.0845189558882113\n"
          ]
        }
      ]
    },
    {
      "cell_type": "code",
      "source": [
        "# 딥러닝 (RNN 모델)\n",
        "X_train_rnn = np.reshape(X_train, (X_train.shape[0], 1, X_train.shape[1]))\n",
        "X_test_rnn = np.reshape(X_test, (X_test.shape[0], 1, X_test.shape[1]))\n",
        "\n",
        "model_rnn = Sequential()\n",
        "model_rnn.add(SimpleRNN(64, input_shape=(1, 3)))\n",
        "model_rnn.add(Dense(1))\n",
        "model_rnn.compile(optimizer='adam', loss='mean_squared_error')\n",
        "\n",
        "# 모델 학습\n",
        "model_rnn.fit(X_train_rnn, y_train, epochs=10, batch_size=32, verbose=0)\n",
        "\n",
        "# 예측\n",
        "y_pred_rnn = model_rnn.predict(X_test_rnn)\n",
        "\n",
        "# MAE 계산\n",
        "mae_rnn = mean_absolute_error(y_test, y_pred_rnn)\n",
        "\n",
        "# RMAE 계산\n",
        "rmae_rnn = np.sqrt(mean_absolute_error(y_test, y_pred_rnn))\n",
        "\n",
        "# MAPE 계산\n",
        "mape_rnn = np.mean(np.abs((y_test - y_pred_rnn) / y_test)) * 100\n",
        "\n",
        "print(\"SimpleRNN 모델 평가 결과:\")\n",
        "print(\"MAE:\", mae_rnn)\n",
        "print(\"RMAE:\", rmae_rnn)\n",
        "print(\"MAPE:\", mape_rnn)"
      ],
      "metadata": {
        "colab": {
          "base_uri": "https://localhost:8080/"
        },
        "id": "6xuB1wh67WCz",
        "outputId": "db96fd58-52ff-4a19-dd30-f8e54e91eef2"
      },
      "execution_count": 68,
      "outputs": [
        {
          "output_type": "stream",
          "name": "stdout",
          "text": [
            "314/314 [==============================] - 0s 1ms/step\n",
            "SimpleRNN 모델 평가 결과:\n",
            "MAE: 1.64846186453502\n",
            "RMAE: 1.283924399851884\n",
            "MAPE: 2.2146559852106042\n"
          ]
        }
      ]
    },
    {
      "cell_type": "code",
      "source": [
        "# 딥러닝 (LSTM)\n",
        "from keras.models import Sequential\n",
        "from keras.layers import LSTM, Dense\n",
        "from sklearn.preprocessing import StandardScaler\n",
        "from sklearn.metrics import mean_absolute_error, mean_squared_error\n",
        "\n",
        "# 입력 데이터 표준화\n",
        "scaler = StandardScaler()\n",
        "X_train_scaled = scaler.fit_transform(X_train)\n",
        "\n",
        "# LSTM 모델의 입력 형태와 일치하도록 입력 데이터 재조정\n",
        "reshaped_X_train = np.reshape(X_train_scaled, (X_train_scaled.shape[0], 1, X_train_scaled.shape[1]))\n",
        "\n",
        "# y_train을 reshaped_X_train의 형태와 일치하도록 재조정\n",
        "reshaped_y_train = np.reshape(y_train, (y_train.shape[0], 1))\n",
        "\n",
        "# LSTM 모델 정의\n",
        "model_lstm = Sequential()\n",
        "model_lstm.add(LSTM(100, activation='relu', input_shape=(1, 3)))\n",
        "model_lstm.add(Dense(100, activation='relu'))\n",
        "model_lstm.add(Dense(1))\n",
        "\n",
        "# 모델 컴파일\n",
        "model_lstm.compile(optimizer='adam', loss='mean_squared_error')\n",
        "\n",
        "# 모델 학습\n",
        "model_lstm.fit(reshaped_X_train, reshaped_y_train, epochs=14, batch_size=32)\n",
        "\n",
        "# 예측\n",
        "y_pred_lstm = model_lstm.predict(reshaped_X_train)\n",
        "\n",
        "# 평가지표 계산\n",
        "mae_lstm = mean_absolute_error(reshaped_y_train, y_pred_lstm)\n",
        "rmse_lstm = np.sqrt(mean_squared_error(reshaped_y_train, y_pred_lstm))\n",
        "mape_lstm = np.mean(np.abs((reshaped_y_train - y_pred_lstm) / reshaped_y_train)) * 100\n",
        "\n",
        "# 결과 출력\n",
        "print(\"LSTM 모델 평가:\")\n",
        "print(\"MAE: {:.4f}\".format(mae_lstm))\n",
        "print(\"RMSE: {:.4f}\".format(rmse_lstm))\n",
        "print(\"MAPE: {:.4f}%\".format(mape_lstm))\n"
      ],
      "metadata": {
        "colab": {
          "base_uri": "https://localhost:8080/"
        },
        "id": "P_MUmRuH-Fqa",
        "outputId": "6d123062-0057-445e-af07-bd76a632400d"
      },
      "execution_count": 94,
      "outputs": [
        {
          "output_type": "stream",
          "name": "stdout",
          "text": [
            "Epoch 1/14\n",
            "1253/1253 [==============================] - 4s 2ms/step - loss: 1079.4924\n",
            "Epoch 2/14\n",
            "1253/1253 [==============================] - 3s 2ms/step - loss: 8.0674\n",
            "Epoch 3/14\n",
            "1253/1253 [==============================] - 2s 2ms/step - loss: 7.6520\n",
            "Epoch 4/14\n",
            "1253/1253 [==============================] - 2s 2ms/step - loss: 7.5099\n",
            "Epoch 5/14\n",
            "1253/1253 [==============================] - 2s 2ms/step - loss: 7.4953\n",
            "Epoch 6/14\n",
            "1253/1253 [==============================] - 3s 2ms/step - loss: 7.3600\n",
            "Epoch 7/14\n",
            "1253/1253 [==============================] - 2s 2ms/step - loss: 7.2995\n",
            "Epoch 8/14\n",
            "1253/1253 [==============================] - 2s 2ms/step - loss: 7.2383\n",
            "Epoch 9/14\n",
            "1253/1253 [==============================] - 2s 2ms/step - loss: 7.2183\n",
            "Epoch 10/14\n",
            "1253/1253 [==============================] - 3s 2ms/step - loss: 7.1912\n",
            "Epoch 11/14\n",
            "1253/1253 [==============================] - 3s 2ms/step - loss: 7.1487\n",
            "Epoch 12/14\n",
            "1253/1253 [==============================] - 2s 2ms/step - loss: 7.1549\n",
            "Epoch 13/14\n",
            "1253/1253 [==============================] - 2s 2ms/step - loss: 7.0366\n",
            "Epoch 14/14\n",
            "1253/1253 [==============================] - 3s 2ms/step - loss: 7.0598\n",
            "1253/1253 [==============================] - 2s 1ms/step\n",
            "LSTM 모델 평가:\n",
            "MAE: 1.4403\n",
            "RMSE: 2.6201\n",
            "MAPE: 1.5655%\n"
          ]
        }
      ]
    },
    {
      "cell_type": "markdown",
      "source": [
        "5. 한번의 작업(temp,pH)을 하나의 matrix형태로 변환\n",
        "(69행을 하나의 matrix로 묶지는 못했음)"
      ],
      "metadata": {
        "id": "hRUacNr7RTYd"
      }
    },
    {
      "cell_type": "code",
      "source": [
        "import numpy as np\n",
        "\n",
        "# temp와 pH 데이터 추출\n",
        "temp_data = data['Temp'].values\n",
        "ph_data = data['pH'].values\n",
        "\n",
        "# 한 번의 작업을 하나의 matrix 형태로 변환\n",
        "combined_data = np.vstack((temp_data, ph_data)).T\n",
        "\n",
        "# 변환된 데이터 확인\n",
        "print(combined_data)\n"
      ],
      "metadata": {
        "colab": {
          "base_uri": "https://localhost:8080/"
        },
        "id": "ODDu5K4oU_0O",
        "outputId": "54df8db8-9ea4-4282-c295-7f72baa4c899"
      },
      "execution_count": 149,
      "outputs": [
        {
          "output_type": "stream",
          "name": "stdout",
          "text": [
            "[[47.18  1.02]\n",
            " [47.34  1.05]\n",
            " [48.45  1.09]\n",
            " ...\n",
            " [41.88  3.4 ]\n",
            " [40.62  3.59]\n",
            " [42.08  3.82]]\n"
          ]
        }
      ]
    },
    {
      "cell_type": "markdown",
      "source": [
        "6. 위의 4번을 새로운 데이터에 반복 작업"
      ],
      "metadata": {
        "id": "5ouWhU7tRZ8F"
      }
    },
    {
      "cell_type": "code",
      "source": [
        "# 딥러닝 (DNN, RNN)\n",
        "\n",
        "import numpy as np\n",
        "from sklearn.model_selection import train_test_split\n",
        "from sklearn.preprocessing import StandardScaler\n",
        "from sklearn.metrics import mean_absolute_error, mean_squared_error, mean_absolute_percentage_error\n",
        "from keras.models import Sequential\n",
        "from keras.layers import Dense, SimpleRNN\n",
        "\n",
        "# 데이터셋 분리\n",
        "X_train, X_test, y_train, y_test = train_test_split(combined_data, data['Process'].values, test_size=0.2, random_state=42)\n",
        "\n",
        "# 데이터 스케일링\n",
        "scaler = StandardScaler()\n",
        "X_train_scaled = scaler.fit_transform(X_train)\n",
        "X_test_scaled = scaler.transform(X_test)\n",
        "\n",
        "# DNN 모델 생성\n",
        "model_dnn = Sequential()\n",
        "model_dnn.add(Dense(64, activation='relu', input_shape=(2,)))\n",
        "model_dnn.add(Dense(64, activation='relu'))\n",
        "model_dnn.add(Dense(1))\n",
        "model_dnn.compile(loss='mean_squared_error', optimizer='adam')\n",
        "\n",
        "# RNN 모델 생성\n",
        "model_rnn = Sequential()\n",
        "model_rnn.add(SimpleRNN(64, activation='relu', input_shape=(1, 2)))\n",
        "model_rnn.add(Dense(1))\n",
        "model_rnn.compile(loss='mean_squared_error', optimizer='adam')\n",
        "\n",
        "# DNN 모델 학습\n",
        "model_dnn.fit(X_train_scaled, y_train, epochs=10, batch_size=32, verbose=0)\n",
        "\n",
        "# RNN 모델 학습\n",
        "model_rnn.fit(X_train_scaled.reshape((-1, 1, 2)), y_train, epochs=10, batch_size=32, verbose=0)\n",
        "\n",
        "# DNN 모델 예측\n",
        "y_pred_dnn = model_dnn.predict(X_test_scaled)\n",
        "\n",
        "# RNN 모델 예측\n",
        "y_pred_rnn = model_rnn.predict(X_test_scaled.reshape((-1, 1, 2)))\n",
        "\n",
        "# 성능 평가\n",
        "mae_dnn = mean_absolute_error(y_test, y_pred_dnn)\n",
        "rmse_dnn = np.sqrt(mean_squared_error(y_test, y_pred_dnn))\n",
        "mape_dnn = mean_absolute_percentage_error(y_test, y_pred_dnn)\n",
        "\n",
        "mae_rnn = mean_absolute_error(y_test, y_pred_rnn)\n",
        "rmse_rnn = np.sqrt(mean_squared_error(y_test, y_pred_rnn))\n",
        "mape_rnn = mean_absolute_percentage_error(y_test, y_pred_rnn)\n",
        "\n",
        "print(\"DNN 모델 평가 결과:\")\n",
        "print(\"MAE:\", mae_dnn)\n",
        "print(\"RMSE:\", rmse_dnn)\n",
        "print(\"MAPE:\", mape_dnn)\n",
        "\n",
        "print(\"RNN 모델 평가 결과:\")\n",
        "print(\"MAE:\", mae_rnn)\n",
        "print(\"RMSE:\", rmse_rnn)\n",
        "print(\"MAPE:\", mape_rnn)\n"
      ],
      "metadata": {
        "colab": {
          "base_uri": "https://localhost:8080/"
        },
        "id": "rxfKyvNbV2dQ",
        "outputId": "aea55e42-f15c-47a5-d3fc-11c13c7c0035"
      },
      "execution_count": 152,
      "outputs": [
        {
          "output_type": "stream",
          "name": "stdout",
          "text": [
            "314/314 [==============================] - 1s 2ms/step\n",
            "314/314 [==============================] - 1s 2ms/step\n",
            "DNN 모델 평가 결과:\n",
            "MAE: 1.33849962229357\n",
            "RMSE: 3.28451460436591\n",
            "MAPE: 0.01512050495040152\n",
            "RNN 모델 평가 결과:\n",
            "MAE: 1.52105079383595\n",
            "RMSE: 3.2273283807446402\n",
            "MAPE: 0.016917100900047426\n"
          ]
        }
      ]
    },
    {
      "cell_type": "code",
      "source": [
        "# 딥러닝 (LSTM)\n",
        "\n",
        "import numpy as np\n",
        "from sklearn.model_selection import train_test_split\n",
        "from sklearn.preprocessing import StandardScaler\n",
        "from sklearn.metrics import mean_absolute_error, mean_squared_error, mean_absolute_percentage_error\n",
        "from keras.models import Sequential\n",
        "from keras.layers import LSTM, Dense\n",
        "\n",
        "# 데이터셋 분리\n",
        "X_train, X_test, y_train, y_test = train_test_split(combined_data, data['Process'].values, test_size=0.2, random_state=42)\n",
        "\n",
        "# 데이터 스케일링\n",
        "scaler = StandardScaler()\n",
        "X_train_scaled = scaler.fit_transform(X_train)\n",
        "X_test_scaled = scaler.transform(X_test)\n",
        "\n",
        "# LSTM 모델 생성\n",
        "model_lstm = Sequential()\n",
        "model_lstm.add(LSTM(64, activation='relu', input_shape=(1, 2)))\n",
        "model_lstm.add(Dense(1))\n",
        "model_lstm.compile(loss='mean_squared_error', optimizer='adam')\n",
        "\n",
        "# LSTM 모델 학습\n",
        "model_lstm.fit(X_train_scaled.reshape((-1, 1, 2)), y_train, epochs=10, batch_size=32, verbose=0)\n",
        "\n",
        "# LSTM 모델 예측\n",
        "y_pred_lstm = model_lstm.predict(X_test_scaled.reshape((-1, 1, 2)))\n",
        "\n",
        "# 성능 평가\n",
        "mae_lstm = mean_absolute_error(y_test, y_pred_lstm)\n",
        "rmse_lstm = np.sqrt(mean_squared_error(y_test, y_pred_lstm))\n",
        "mape_lstm = mean_absolute_percentage_error(y_test, y_pred_lstm)\n",
        "\n",
        "print(\"LSTM 모델 평가 결과:\")\n",
        "print(\"MAE:\", mae_lstm)\n",
        "print(\"RMSE:\", rmse_lstm)\n",
        "print(\"MAPE:\", mape_lstm)\n"
      ],
      "metadata": {
        "colab": {
          "base_uri": "https://localhost:8080/"
        },
        "id": "YJIbfflmWjYB",
        "outputId": "19338005-5baa-4c26-9814-972ac012d8b5"
      },
      "execution_count": 153,
      "outputs": [
        {
          "output_type": "stream",
          "name": "stdout",
          "text": [
            "314/314 [==============================] - 1s 1ms/step\n",
            "LSTM 모델 평가 결과:\n",
            "MAE: 1.4824207519202288\n",
            "RMSE: 3.236572622749457\n",
            "MAPE: 0.016512404965431663\n"
          ]
        }
      ]
    },
    {
      "cell_type": "markdown",
      "source": [
        "**4번의 결과값**\n",
        "\n",
        "- DNN 모델 평가 결과: MAE: 1.42 / RMAE: 1.19 / MAPE: 2.08\n",
        "\n",
        "- SimpleRNN 모델 평가 결과: MAE: 1.64 / RMAE: 1.28 / MAPE: 2.21\n",
        "\n",
        "- LSTM 모델 평가 결과: MAE: 1.44 / RMSE: 2.62 / MAPE: 1.56\n",
        "\n",
        "\n",
        "\n",
        "**데이터 셋 변경 후 결과값**\n",
        "\n",
        "- DNN 모델 평가 결과: MAE: 1.33 / RMSE: 3.28 / MAPE: 0.01\n",
        "\n",
        "- RNN 모델 평가 결과: MAE: 1.52 / RMSE: 3.22 / MAPE: 0.01\n",
        "\n",
        "- LSTM 모델 평가 결과: MAE: 1.41 / RMSE: 3.24 / MAPE: 0.01"
      ],
      "metadata": {
        "id": "UARL6U80WxhY"
      }
    },
    {
      "cell_type": "markdown",
      "source": [
        "**7. 데이터 셋에 따라서 결과가 다르게 나오는 이유**\n",
        "\n",
        "데이터 셋이 변함에 따라 데이터의 양, 분포, 패턴 찾기 등 다양한 이유로 결과값이 달라질 수 있다. 특히 이번 프로젝트에서,\n",
        "Q5 이전인 시계열 데이터에서는 각 시간별로 온도와 pH 값이 기록되어 있어 시간에 따른 패턴이나 추세를 분석할 수 있었다. 따라서, 시계열 데이터를 활용한 시계열 분석 기법이 적용될 수 있었다.\n",
        "\n",
        "하지만 Q5 이후에는 데이터가 한 번의 작업 단위로 변환되어 각 작업에 대한 온도와 pH 값만을 가지고 있다. 따라서, 시계열적인 특성을 고려하는 분석보다는 작업 단위의 특성을 고려한 분석이 적합해졌다. 예를 들어, 각 작업이 어떤 특징을 가지고 있는지, 작업 간의 차이나 변동성을 확인하는 등의 분석이 중요해진다."
      ],
      "metadata": {
        "id": "H4mkGUk8Rerr"
      }
    }
  ]
}