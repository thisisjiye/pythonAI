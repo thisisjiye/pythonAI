{
 "cells": [
  {
   "cell_type": "code",
   "execution_count": null,
   "source": [
    "\n",
    "import warnings\n",
    "warnings.filterwarnings(action='ignore')\n",
    "import requests\n",
    "from bs4 import BeautifulSoup\n",
    "from datetime import datetime as dt"
   ],
   "outputs": [],
   "metadata": {}
  },
  {
   "cell_type": "code",
   "execution_count": null,
   "source": [
    "targetSite = 'https://www.melon.com/chart/index.htm'\n",
    "request = requests.get(targetSite)\n",
    "# 406(허용되지 않음): 요청한 페이지가 요청한 콘텐츠 특성으로 응답할 수 없다.\n",
    "print(request)"
   ],
   "outputs": [],
   "metadata": {}
  },
  {
   "cell_type": "markdown",
   "source": [
    "targetSite = 'https://www.melon.com/chart/index.htm'\n",
    "header = {'User-agent': 'Mozilla/5.0 (Windows NT 6.1; WOW64; Trident/7.0; rv:11.0) like Gecko'}\n",
    "request = requests.get(targetSite, headers=header)\n",
    "print(request)"
   ],
   "metadata": {}
  },
  {
   "cell_type": "markdown",
   "source": [
    "html = request.text\n",
    "soup = BeautifulSoup(html, 'html.parser')\n",
    "# print(soup)"
   ],
   "metadata": {}
  },
  {
   "cell_type": "markdown",
   "source": [
    "# 노래 제목 크롤링\n",
    "titles = soup.findAll('div', {'class': 'ellipsis rank01'})\n",
    "# print(titles)\n",
    "# print(len(titles))\n",
    "\n",
    "for i in range(len(titles)):\n",
    "    # print('{0:3d}위 {1}'.format(i + 1, titles[i].text.strip()))\n",
    "    # print('{0:3d}위 {1}'.format(i + 1, titles[i].text.split('\\n')[1]))\n",
    "    print('{0:3d}위 {1}'.format(i + 1, titles[i].text.strip().split('\\n')[0]))"
   ],
   "metadata": {}
  },
  {
   "cell_type": "markdown",
   "source": [
    "# 아티스트 크롤링\n",
    "artists = soup.findAll('span', {'class': 'checkEllipsis'})\n",
    "# print(artists)\n",
    "# print(len(artists))\n",
    "\n",
    "for i in range(len(artists)):\n",
    "    # print('{0:3d}위 {1}'.format(i + 1, artists[i].text.strip()))\n",
    "    # print('{0:3d}위 {1}'.format(i + 1, artists[i].text.split('\\n')[0]))\n",
    "    print('{0:3d}위 {1}'.format(i + 1, artists[i].text.strip().split('\\n')[0]))\n"
   ],
   "metadata": {}
  },
  {
   "cell_type": "markdown",
   "source": [
    "print(dt.now())\n",
    "for i in range(100):\n",
    "    artist = artists[i].text.strip().split('\\n')[0]\n",
    "    title = titles[i].text.strip().split('\\n')[0]\n",
    "    print('{0:3d}위 {1} - {2}'.format(i + 1, artist, title))"
   ],
   "metadata": {}
  },
  {
   "cell_type": "markdown",
   "source": [
    "# 크롤링한 결과를 텍스트 파일로 저장한다.\n",
    "# file = open('./output/melonTOP100.txt', 'w')\n",
    "# 위의 문장처럼 실행했는데 에러가 발생하면 아래와 같이 open() 함수를 수정한다.\n",
    "file = open('./output/melonTOP100.txt', 'w', -1, 'UTF-8')\n",
    "file.write('{} 현재 Melon 뮤직 실시간 TOP 100\\n'.format(dt.now()))\n",
    "for i in range(100):\n",
    "    artist = artists[i].text.strip().split('\\n')[0]\n",
    "    title = titles[i].text.strip().split('\\n')[0]\n",
    "    file.write('{0:3d}위 {1} - {2}\\n'.format(i + 1, artist, title))\n",
    "file.close()\n",
    "print('melonTOP100.txt 파일로 쓰기 완료')"
   ],
   "metadata": {}
  },
  {
   "cell_type": "markdown",
   "source": [
    "# 텍스트 파일에 저장된 데이터를 읽어서 화면에 출력한다.\n",
    "try:\n",
    "    file = open('./output/melonTOP100.txt', 'r', -1, 'UTF-8')\n",
    "    lines = file.readlines()\n",
    "    for line in lines:\n",
    "        print(line.strip())\n",
    "    file.close()\n",
    "    print('melonTOP100.txt 파일에서 읽기 완료')\n",
    "except FileNotFoundError:\n",
    "    print('디스크에 melonTOP100.txt 파일이 없습니다.')"
   ],
   "metadata": {}
  }
 ],
 "metadata": {
  "orig_nbformat": 4,
  "language_info": {
   "name": "python"
  }
 },
 "nbformat": 4,
 "nbformat_minor": 2
}